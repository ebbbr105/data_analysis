{
 "cells": [
  {
   "cell_type": "markdown",
   "id": "923b6533",
   "metadata": {
    "deletable": false,
    "editable": false,
    "id": "c81daeeb"
   },
   "source": [
    "# Исследование надежности заемщиков\n"
   ]
  },
  {
   "cell_type": "code",
   "execution_count": 2,
   "id": "0696e2aa",
   "metadata": {
    "deletable": false,
    "id": "7bcf75c9"
   },
   "outputs": [],
   "source": [
    "import pandas as pd\n",
    "\n",
    "data = pd.read_csv('/datasets/data.csv')"
   ]
  },
  {
   "cell_type": "code",
   "execution_count": 3,
   "id": "9cb8ebcc",
   "metadata": {
    "deletable": false,
    "id": "2a7cab99",
    "outputId": "1a8f3ef2-d323-4ec2-ddf7-89670b5944c4"
   },
   "outputs": [
    {
     "data": {
      "text/html": [
       "<div>\n",
       "<style scoped>\n",
       "    .dataframe tbody tr th:only-of-type {\n",
       "        vertical-align: middle;\n",
       "    }\n",
       "\n",
       "    .dataframe tbody tr th {\n",
       "        vertical-align: top;\n",
       "    }\n",
       "\n",
       "    .dataframe thead th {\n",
       "        text-align: right;\n",
       "    }\n",
       "</style>\n",
       "<table border=\"1\" class=\"dataframe\">\n",
       "  <thead>\n",
       "    <tr style=\"text-align: right;\">\n",
       "      <th></th>\n",
       "      <th>children</th>\n",
       "      <th>days_employed</th>\n",
       "      <th>dob_years</th>\n",
       "      <th>education</th>\n",
       "      <th>education_id</th>\n",
       "      <th>family_status</th>\n",
       "      <th>family_status_id</th>\n",
       "      <th>gender</th>\n",
       "      <th>income_type</th>\n",
       "      <th>debt</th>\n",
       "      <th>total_income</th>\n",
       "      <th>purpose</th>\n",
       "    </tr>\n",
       "  </thead>\n",
       "  <tbody>\n",
       "    <tr>\n",
       "      <th>0</th>\n",
       "      <td>1</td>\n",
       "      <td>-8437.673028</td>\n",
       "      <td>42</td>\n",
       "      <td>высшее</td>\n",
       "      <td>0</td>\n",
       "      <td>женат / замужем</td>\n",
       "      <td>0</td>\n",
       "      <td>F</td>\n",
       "      <td>сотрудник</td>\n",
       "      <td>0</td>\n",
       "      <td>253875.639453</td>\n",
       "      <td>покупка жилья</td>\n",
       "    </tr>\n",
       "    <tr>\n",
       "      <th>1</th>\n",
       "      <td>1</td>\n",
       "      <td>-4024.803754</td>\n",
       "      <td>36</td>\n",
       "      <td>среднее</td>\n",
       "      <td>1</td>\n",
       "      <td>женат / замужем</td>\n",
       "      <td>0</td>\n",
       "      <td>F</td>\n",
       "      <td>сотрудник</td>\n",
       "      <td>0</td>\n",
       "      <td>112080.014102</td>\n",
       "      <td>приобретение автомобиля</td>\n",
       "    </tr>\n",
       "    <tr>\n",
       "      <th>2</th>\n",
       "      <td>0</td>\n",
       "      <td>-5623.422610</td>\n",
       "      <td>33</td>\n",
       "      <td>Среднее</td>\n",
       "      <td>1</td>\n",
       "      <td>женат / замужем</td>\n",
       "      <td>0</td>\n",
       "      <td>M</td>\n",
       "      <td>сотрудник</td>\n",
       "      <td>0</td>\n",
       "      <td>145885.952297</td>\n",
       "      <td>покупка жилья</td>\n",
       "    </tr>\n",
       "    <tr>\n",
       "      <th>3</th>\n",
       "      <td>3</td>\n",
       "      <td>-4124.747207</td>\n",
       "      <td>32</td>\n",
       "      <td>среднее</td>\n",
       "      <td>1</td>\n",
       "      <td>женат / замужем</td>\n",
       "      <td>0</td>\n",
       "      <td>M</td>\n",
       "      <td>сотрудник</td>\n",
       "      <td>0</td>\n",
       "      <td>267628.550329</td>\n",
       "      <td>дополнительное образование</td>\n",
       "    </tr>\n",
       "    <tr>\n",
       "      <th>4</th>\n",
       "      <td>0</td>\n",
       "      <td>340266.072047</td>\n",
       "      <td>53</td>\n",
       "      <td>среднее</td>\n",
       "      <td>1</td>\n",
       "      <td>гражданский брак</td>\n",
       "      <td>1</td>\n",
       "      <td>F</td>\n",
       "      <td>пенсионер</td>\n",
       "      <td>0</td>\n",
       "      <td>158616.077870</td>\n",
       "      <td>сыграть свадьбу</td>\n",
       "    </tr>\n",
       "  </tbody>\n",
       "</table>\n",
       "</div>"
      ],
      "text/plain": [
       "   children  days_employed  dob_years education  education_id  \\\n",
       "0         1   -8437.673028         42    высшее             0   \n",
       "1         1   -4024.803754         36   среднее             1   \n",
       "2         0   -5623.422610         33   Среднее             1   \n",
       "3         3   -4124.747207         32   среднее             1   \n",
       "4         0  340266.072047         53   среднее             1   \n",
       "\n",
       "      family_status  family_status_id gender income_type  debt   total_income  \\\n",
       "0   женат / замужем                 0      F   сотрудник     0  253875.639453   \n",
       "1   женат / замужем                 0      F   сотрудник     0  112080.014102   \n",
       "2   женат / замужем                 0      M   сотрудник     0  145885.952297   \n",
       "3   женат / замужем                 0      M   сотрудник     0  267628.550329   \n",
       "4  гражданский брак                 1      F   пенсионер     0  158616.077870   \n",
       "\n",
       "                      purpose  \n",
       "0               покупка жилья  \n",
       "1     приобретение автомобиля  \n",
       "2               покупка жилья  \n",
       "3  дополнительное образование  \n",
       "4             сыграть свадьбу  "
      ]
     },
     "execution_count": 3,
     "metadata": {},
     "output_type": "execute_result"
    }
   ],
   "source": [
    "data.head(5)"
   ]
  },
  {
   "cell_type": "code",
   "execution_count": 3,
   "id": "7914a454",
   "metadata": {
    "deletable": false,
    "id": "2b757bca",
    "outputId": "15376089-8dad-46c9-b520-c05248d43158"
   },
   "outputs": [
    {
     "name": "stdout",
     "output_type": "stream",
     "text": [
      "<class 'pandas.core.frame.DataFrame'>\n",
      "RangeIndex: 21525 entries, 0 to 21524\n",
      "Data columns (total 12 columns):\n",
      " #   Column            Non-Null Count  Dtype  \n",
      "---  ------            --------------  -----  \n",
      " 0   children          21525 non-null  int64  \n",
      " 1   days_employed     19351 non-null  float64\n",
      " 2   dob_years         21525 non-null  int64  \n",
      " 3   education         21525 non-null  object \n",
      " 4   education_id      21525 non-null  int64  \n",
      " 5   family_status     21525 non-null  object \n",
      " 6   family_status_id  21525 non-null  int64  \n",
      " 7   gender            21525 non-null  object \n",
      " 8   income_type       21525 non-null  object \n",
      " 9   debt              21525 non-null  int64  \n",
      " 10  total_income      19351 non-null  float64\n",
      " 11  purpose           21525 non-null  object \n",
      "dtypes: float64(2), int64(5), object(5)\n",
      "memory usage: 2.0+ MB\n"
     ]
    }
   ],
   "source": [
    "data.info()"
   ]
  },
  {
   "cell_type": "markdown",
   "id": "b2985110",
   "metadata": {
    "deletable": false,
    "editable": false,
    "id": "333ec665"
   },
   "source": [
    "## Предобработка данных"
   ]
  },
  {
   "cell_type": "code",
   "execution_count": 4,
   "id": "c11e5401",
   "metadata": {
    "deletable": false,
    "id": "7f9b2309",
    "outputId": "81f4d817-781c-465c-ed15-91ce4446810d"
   },
   "outputs": [
    {
     "data": {
      "text/plain": [
       "children               0\n",
       "days_employed       2174\n",
       "dob_years              0\n",
       "education              0\n",
       "education_id           0\n",
       "family_status          0\n",
       "family_status_id       0\n",
       "gender                 0\n",
       "income_type            0\n",
       "debt                   0\n",
       "total_income        2174\n",
       "purpose                0\n",
       "dtype: int64"
      ]
     },
     "execution_count": 4,
     "metadata": {},
     "output_type": "execute_result"
    }
   ],
   "source": [
    "data.isna().sum()"
   ]
  },
  {
   "cell_type": "code",
   "execution_count": 5,
   "id": "9fff0345",
   "metadata": {
    "deletable": false,
    "id": "42006a93"
   },
   "outputs": [],
   "source": [
    "for t in data['income_type'].unique():\n",
    "    data.loc[(data['income_type'] == t) & (data['total_income'].isna()), 'total_income'] = \\\n",
    "    data.loc[(data['income_type'] == t), 'total_income'].median()"
   ]
  },
  {
   "cell_type": "markdown",
   "id": "c787b351",
   "metadata": {
    "deletable": false,
    "editable": false,
    "id": "89da5ece"
   },
   "source": [
    "### Обработка аномальных значений"
   ]
  },
  {
   "cell_type": "code",
   "execution_count": 6,
   "id": "3068488e",
   "metadata": {
    "deletable": false,
    "id": "f6f055bf"
   },
   "outputs": [],
   "source": [
    "data['days_employed'] = data['days_employed'].abs()"
   ]
  },
  {
   "cell_type": "code",
   "execution_count": 7,
   "id": "6b380c74",
   "metadata": {
    "deletable": false,
    "id": "85a5faf6",
    "outputId": "801ef80e-522b-4668-f34e-565af7432bcf"
   },
   "outputs": [
    {
     "data": {
      "text/plain": [
       "income_type\n",
       "безработный        366413.652744\n",
       "в декрете            3296.759962\n",
       "госслужащий          2689.368353\n",
       "компаньон            1547.382223\n",
       "пенсионер          365213.306266\n",
       "предприниматель       520.848083\n",
       "сотрудник            1574.202821\n",
       "студент               578.751554\n",
       "Name: days_employed, dtype: float64"
      ]
     },
     "execution_count": 7,
     "metadata": {},
     "output_type": "execute_result"
    }
   ],
   "source": [
    "data.groupby('income_type')['days_employed'].agg('median')"
   ]
  },
  {
   "cell_type": "code",
   "execution_count": 8,
   "id": "6ad2860f",
   "metadata": {
    "deletable": false,
    "id": "ef5056eb",
    "outputId": "6975b15c-7f95-4697-d16d-a0c79b657b03"
   },
   "outputs": [
    {
     "data": {
      "text/plain": [
       "array([ 1,  0,  3,  2, -1,  4, 20,  5])"
      ]
     },
     "execution_count": 8,
     "metadata": {},
     "output_type": "execute_result"
    }
   ],
   "source": [
    "data['children'].unique()"
   ]
  },
  {
   "cell_type": "code",
   "execution_count": 9,
   "id": "a5f876e3",
   "metadata": {
    "deletable": false,
    "id": "3ff9801d"
   },
   "outputs": [],
   "source": [
    "data = data[(data['children'] != -1) & (data['children'] != 20)]"
   ]
  },
  {
   "cell_type": "code",
   "execution_count": 10,
   "id": "dec27ad0",
   "metadata": {
    "deletable": false,
    "id": "ad4fa8b7",
    "outputId": "b2097101-d49d-44d9-901b-32a65c9463d1"
   },
   "outputs": [
    {
     "data": {
      "text/plain": [
       "array([1, 0, 3, 2, 4, 5])"
      ]
     },
     "execution_count": 10,
     "metadata": {},
     "output_type": "execute_result"
    }
   ],
   "source": [
    "data['children'].unique()"
   ]
  },
  {
   "cell_type": "code",
   "execution_count": 11,
   "id": "ab7cc04b",
   "metadata": {
    "deletable": false,
    "id": "af6b1a7e"
   },
   "outputs": [],
   "source": [
    "for t in data['income_type'].unique():\n",
    "    data.loc[(data['income_type'] == t) & (data['days_employed'].isna()), 'days_employed'] = \\\n",
    "    data.loc[(data['income_type'] == t), 'days_employed'].median()"
   ]
  },
  {
   "cell_type": "code",
   "execution_count": 12,
   "id": "d1554c65",
   "metadata": {
    "deletable": false,
    "id": "55f78bc2",
    "outputId": "8da1e4e1-358e-4e87-98c9-f261bce0a7b2"
   },
   "outputs": [
    {
     "data": {
      "text/plain": [
       "children            0\n",
       "days_employed       0\n",
       "dob_years           0\n",
       "education           0\n",
       "education_id        0\n",
       "family_status       0\n",
       "family_status_id    0\n",
       "gender              0\n",
       "income_type         0\n",
       "debt                0\n",
       "total_income        0\n",
       "purpose             0\n",
       "dtype: int64"
      ]
     },
     "execution_count": 12,
     "metadata": {},
     "output_type": "execute_result"
    }
   ],
   "source": [
    "data.isna().sum()"
   ]
  },
  {
   "cell_type": "markdown",
   "id": "7ed75a19",
   "metadata": {
    "deletable": false,
    "editable": false,
    "id": "ddc81e43"
   },
   "source": [
    "### Изменение типов данных"
   ]
  },
  {
   "cell_type": "code",
   "execution_count": 13,
   "id": "0f74258f",
   "metadata": {
    "deletable": false,
    "id": "920b65ad"
   },
   "outputs": [],
   "source": [
    "data['total_income'] = data['total_income'].astype(int)"
   ]
  },
  {
   "cell_type": "markdown",
   "id": "f721a905",
   "metadata": {
    "deletable": false,
    "editable": false,
    "id": "80c420ba"
   },
   "source": [
    "### Обработка дубликатов"
   ]
  },
  {
   "cell_type": "code",
   "execution_count": 14,
   "id": "dbe329a9",
   "metadata": {
    "deletable": false
   },
   "outputs": [],
   "source": [
    "data['education'] = data['education'].str.lower()"
   ]
  },
  {
   "cell_type": "code",
   "execution_count": 15,
   "id": "c41b4589",
   "metadata": {
    "deletable": false,
    "id": "3ee445e4",
    "outputId": "9684deba-1934-42d1-99e1-cda61740f822"
   },
   "outputs": [
    {
     "data": {
      "text/plain": [
       "71"
      ]
     },
     "execution_count": 15,
     "metadata": {},
     "output_type": "execute_result"
    }
   ],
   "source": [
    "data.duplicated().sum()"
   ]
  },
  {
   "cell_type": "code",
   "execution_count": 16,
   "id": "b5c34c53",
   "metadata": {
    "deletable": false,
    "id": "8575fe05"
   },
   "outputs": [],
   "source": [
    "data = data.drop_duplicates()"
   ]
  },
  {
   "cell_type": "markdown",
   "id": "4de1de1f",
   "metadata": {
    "deletable": false,
    "editable": false,
    "id": "9904cf55"
   },
   "source": [
    "### Категоризация данных"
   ]
  },
  {
   "cell_type": "markdown",
   "id": "3db13713",
   "metadata": {
    "deletable": false,
    "editable": false,
    "id": "72fcc8a2"
   },
   "source": [
    "**Категории:**\n",
    "\n",
    "- 0–30000 — `'E'`;\n",
    "- 30001–50000 — `'D'`;\n",
    "- 50001–200000 — `'C'`;\n",
    "- 200001–1000000 — `'B'`;\n",
    "- 1000001 и выше — `'A'`.\n"
   ]
  },
  {
   "cell_type": "code",
   "execution_count": 17,
   "id": "9b7dd6e2",
   "metadata": {
    "deletable": false,
    "id": "e1771346"
   },
   "outputs": [],
   "source": [
    "def categorize_income(income):\n",
    "    try:\n",
    "        if 0 <= income <= 30000:\n",
    "            return 'E'\n",
    "        elif 30001 <= income <= 50000:\n",
    "            return 'D'\n",
    "        elif 50001 <= income <= 200000:\n",
    "            return 'C'\n",
    "        elif 200001 <= income <= 1000000:\n",
    "            return 'B'\n",
    "        elif income >= 1000001:\n",
    "            return 'A'\n",
    "    except:\n",
    "        pass"
   ]
  },
  {
   "cell_type": "code",
   "execution_count": 18,
   "id": "36081217",
   "metadata": {
    "deletable": false,
    "id": "d5f3586d"
   },
   "outputs": [],
   "source": [
    "data['total_income_category'] = data['total_income'].apply(categorize_income)"
   ]
  },
  {
   "cell_type": "code",
   "execution_count": 19,
   "id": "4405722c",
   "metadata": {
    "deletable": false,
    "id": "f67ce9b3",
    "outputId": "673c12d9-7d7e-4ae0-9812-c622c89dd244"
   },
   "outputs": [
    {
     "data": {
      "text/plain": [
       "array(['покупка жилья', 'приобретение автомобиля',\n",
       "       'дополнительное образование', 'сыграть свадьбу',\n",
       "       'операции с жильем', 'образование', 'на проведение свадьбы',\n",
       "       'покупка жилья для семьи', 'покупка недвижимости',\n",
       "       'покупка коммерческой недвижимости', 'покупка жилой недвижимости',\n",
       "       'строительство собственной недвижимости', 'недвижимость',\n",
       "       'строительство недвижимости', 'на покупку подержанного автомобиля',\n",
       "       'на покупку своего автомобиля',\n",
       "       'операции с коммерческой недвижимостью',\n",
       "       'строительство жилой недвижимости', 'жилье',\n",
       "       'операции со своей недвижимостью', 'автомобили',\n",
       "       'заняться образованием', 'сделка с подержанным автомобилем',\n",
       "       'получение образования', 'автомобиль', 'свадьба',\n",
       "       'получение дополнительного образования', 'покупка своего жилья',\n",
       "       'операции с недвижимостью', 'получение высшего образования',\n",
       "       'свой автомобиль', 'сделка с автомобилем',\n",
       "       'профильное образование', 'высшее образование',\n",
       "       'покупка жилья для сдачи', 'на покупку автомобиля', 'ремонт жилью',\n",
       "       'заняться высшим образованием'], dtype=object)"
      ]
     },
     "execution_count": 19,
     "metadata": {},
     "output_type": "execute_result"
    }
   ],
   "source": [
    "data['purpose'].unique()"
   ]
  },
  {
   "cell_type": "markdown",
   "id": "4a68016e",
   "metadata": {
    "deletable": false,
    "editable": false,
    "id": "85d0aef0"
   },
   "source": [
    "**Создание новых категорий:**\n",
    "\n",
    "- `'операции с автомобилем'`,\n",
    "- `'операции с недвижимостью'`,\n",
    "- `'проведение свадьбы'`,\n",
    "- `'получение образования'`.\n",
    "\n",
    "**Например, если в столбце `purpose` находится подстрока `'на покупку автомобиля'`, то в столбце `purpose_category` должна появиться строка `'операции с автомобилем'`.**"
   ]
  },
  {
   "cell_type": "code",
   "execution_count": 20,
   "id": "cc966a4b",
   "metadata": {
    "deletable": false,
    "id": "e149fab4"
   },
   "outputs": [],
   "source": [
    "def categorize_purpose(row):\n",
    "    try:\n",
    "        if 'автом' in row:\n",
    "            return 'операции с автомобилем'\n",
    "        elif 'жил' in row or 'недвиж' in row:\n",
    "            return 'операции с недвижимостью'\n",
    "        elif 'свад' in row:\n",
    "            return 'проведение свадьбы'\n",
    "        elif 'образов' in row:\n",
    "            return 'получение образования'\n",
    "    except:\n",
    "        return 'нет категории'"
   ]
  },
  {
   "cell_type": "code",
   "execution_count": 21,
   "id": "bd716ab2",
   "metadata": {
    "deletable": false,
    "id": "bf36e69b"
   },
   "outputs": [],
   "source": [
    "data['purpose_category'] = data['purpose'].apply(categorize_purpose)"
   ]
  },
  {
   "cell_type": "markdown",
   "id": "a21da412",
   "metadata": {
    "deletable": false,
    "editable": false,
    "id": "09b242bf"
   },
   "source": [
    "### Шаг 3. Исследование данных"
   ]
  },
  {
   "cell_type": "markdown",
   "id": "ef1277e6",
   "metadata": {
    "deletable": false,
    "editable": false,
    "id": "c5d66278"
   },
   "source": [
    "#### 3.1 Есть ли зависимость между количеством детей и возвратом кредита в срок?"
   ]
  },
  {
   "cell_type": "code",
   "execution_count": 22,
   "id": "00560631",
   "metadata": {
    "deletable": false,
    "id": "2cacfc4a"
   },
   "outputs": [
    {
     "data": {
      "text/html": [
       "<div>\n",
       "<style scoped>\n",
       "    .dataframe tbody tr th:only-of-type {\n",
       "        vertical-align: middle;\n",
       "    }\n",
       "\n",
       "    .dataframe tbody tr th {\n",
       "        vertical-align: top;\n",
       "    }\n",
       "\n",
       "    .dataframe thead tr th {\n",
       "        text-align: left;\n",
       "    }\n",
       "\n",
       "    .dataframe thead tr:last-of-type th {\n",
       "        text-align: right;\n",
       "    }\n",
       "</style>\n",
       "<table border=\"1\" class=\"dataframe\">\n",
       "  <thead>\n",
       "    <tr>\n",
       "      <th></th>\n",
       "      <th>count</th>\n",
       "      <th>sum</th>\n",
       "      <th>mean</th>\n",
       "      <th>share</th>\n",
       "    </tr>\n",
       "    <tr>\n",
       "      <th></th>\n",
       "      <th>debt</th>\n",
       "      <th>debt</th>\n",
       "      <th>debt</th>\n",
       "      <th></th>\n",
       "    </tr>\n",
       "    <tr>\n",
       "      <th>children</th>\n",
       "      <th></th>\n",
       "      <th></th>\n",
       "      <th></th>\n",
       "      <th></th>\n",
       "    </tr>\n",
       "  </thead>\n",
       "  <tbody>\n",
       "    <tr>\n",
       "      <th>0</th>\n",
       "      <td>14091</td>\n",
       "      <td>1063</td>\n",
       "      <td>7.54</td>\n",
       "      <td>0.08</td>\n",
       "    </tr>\n",
       "    <tr>\n",
       "      <th>1</th>\n",
       "      <td>4808</td>\n",
       "      <td>444</td>\n",
       "      <td>9.23</td>\n",
       "      <td>0.09</td>\n",
       "    </tr>\n",
       "    <tr>\n",
       "      <th>2</th>\n",
       "      <td>2052</td>\n",
       "      <td>194</td>\n",
       "      <td>9.45</td>\n",
       "      <td>0.09</td>\n",
       "    </tr>\n",
       "    <tr>\n",
       "      <th>3</th>\n",
       "      <td>330</td>\n",
       "      <td>27</td>\n",
       "      <td>8.18</td>\n",
       "      <td>0.08</td>\n",
       "    </tr>\n",
       "    <tr>\n",
       "      <th>4</th>\n",
       "      <td>41</td>\n",
       "      <td>4</td>\n",
       "      <td>9.76</td>\n",
       "      <td>0.10</td>\n",
       "    </tr>\n",
       "    <tr>\n",
       "      <th>5</th>\n",
       "      <td>9</td>\n",
       "      <td>0</td>\n",
       "      <td>0.00</td>\n",
       "      <td>0.00</td>\n",
       "    </tr>\n",
       "  </tbody>\n",
       "</table>\n",
       "</div>"
      ],
      "text/plain": [
       "          count   sum  mean share\n",
       "           debt  debt  debt      \n",
       "children                         \n",
       "0         14091  1063  7.54  0.08\n",
       "1          4808   444  9.23  0.09\n",
       "2          2052   194  9.45  0.09\n",
       "3           330    27  8.18  0.08\n",
       "4            41     4  9.76  0.10\n",
       "5             9     0  0.00  0.00"
      ]
     },
     "execution_count": 22,
     "metadata": {},
     "output_type": "execute_result"
    }
   ],
   "source": [
    "data_pivot_children = data.pivot_table(index=['children'], values='debt', aggfunc=['count', 'sum', 'mean'])\n",
    "data_pivot_children['mean'] = (data_pivot_children['mean']*100).round(decimals=2)\n",
    "data_pivot_children['share'] = (data_pivot_children['sum']/data_pivot_children['count']).round(decimals=2)\n",
    "data_pivot_children\n"
   ]
  },
  {
   "cell_type": "markdown",
   "id": "0cd63cb7",
   "metadata": {},
   "source": [
    "<div class=\"alert alert-info\"> <b>Комментарий:</b> \n",
    "\n",
    "Count считает нам количество человек в зависимости от количества детей. Sum показывает количество должников. То есть из 14091 человек, у которых нет детей, 1063 человека являются должниками. \n",
    "Можно заметить, что больше всего людей, которые имеют задолженность, не имеют детей. Чем больше детей, тем ниже количество должников. При этом людей, у которых в семье детей больше, тоже меньше. Так, у людей с 5 детьми в семье, отсутсвуют задолжности. \n",
    "Таким же образом у людей с тремя детьми меньше задолжностей, чем у семей с 1 и 2 детьми. Однако столбец share говорит, что как бездетные, так и семьи до 4 детей включительно примерно на одном уровне задолжности, о чем также говорит и среднее (столбец mean).\n",
    "\n",
    "Вывод: не совсем хватает данных по многодетным семьям, поэтому нельзя сказать, что связь есть. Также не следует опираться только на sum и count :)\n",
    "    \n",
    "\n",
    "\n",
    "\n",
    "\n",
    "</div>"
   ]
  },
  {
   "cell_type": "markdown",
   "id": "404715ff",
   "metadata": {
    "deletable": false,
    "editable": false,
    "id": "97be82ca"
   },
   "source": [
    "#### 3.2 Есть ли зависимость между семейным положением и возвратом кредита в срок?"
   ]
  },
  {
   "cell_type": "code",
   "execution_count": 23,
   "id": "6e658744",
   "metadata": {
    "deletable": false,
    "id": "dc3f7ee8"
   },
   "outputs": [
    {
     "data": {
      "text/html": [
       "<div>\n",
       "<style scoped>\n",
       "    .dataframe tbody tr th:only-of-type {\n",
       "        vertical-align: middle;\n",
       "    }\n",
       "\n",
       "    .dataframe tbody tr th {\n",
       "        vertical-align: top;\n",
       "    }\n",
       "\n",
       "    .dataframe thead tr th {\n",
       "        text-align: left;\n",
       "    }\n",
       "\n",
       "    .dataframe thead tr:last-of-type th {\n",
       "        text-align: right;\n",
       "    }\n",
       "</style>\n",
       "<table border=\"1\" class=\"dataframe\">\n",
       "  <thead>\n",
       "    <tr>\n",
       "      <th></th>\n",
       "      <th>count</th>\n",
       "      <th>sum</th>\n",
       "      <th>mean</th>\n",
       "      <th>share</th>\n",
       "    </tr>\n",
       "    <tr>\n",
       "      <th></th>\n",
       "      <th>debt</th>\n",
       "      <th>debt</th>\n",
       "      <th>debt</th>\n",
       "      <th></th>\n",
       "    </tr>\n",
       "    <tr>\n",
       "      <th>family_status</th>\n",
       "      <th></th>\n",
       "      <th></th>\n",
       "      <th></th>\n",
       "      <th></th>\n",
       "    </tr>\n",
       "  </thead>\n",
       "  <tbody>\n",
       "    <tr>\n",
       "      <th>Не женат / не замужем</th>\n",
       "      <td>2796</td>\n",
       "      <td>273</td>\n",
       "      <td>9.76</td>\n",
       "      <td>0.10</td>\n",
       "    </tr>\n",
       "    <tr>\n",
       "      <th>в разводе</th>\n",
       "      <td>1189</td>\n",
       "      <td>84</td>\n",
       "      <td>7.06</td>\n",
       "      <td>0.07</td>\n",
       "    </tr>\n",
       "    <tr>\n",
       "      <th>вдовец / вдова</th>\n",
       "      <td>951</td>\n",
       "      <td>63</td>\n",
       "      <td>6.62</td>\n",
       "      <td>0.07</td>\n",
       "    </tr>\n",
       "    <tr>\n",
       "      <th>гражданский брак</th>\n",
       "      <td>4134</td>\n",
       "      <td>385</td>\n",
       "      <td>9.31</td>\n",
       "      <td>0.09</td>\n",
       "    </tr>\n",
       "    <tr>\n",
       "      <th>женат / замужем</th>\n",
       "      <td>12261</td>\n",
       "      <td>927</td>\n",
       "      <td>7.56</td>\n",
       "      <td>0.08</td>\n",
       "    </tr>\n",
       "  </tbody>\n",
       "</table>\n",
       "</div>"
      ],
      "text/plain": [
       "                       count  sum  mean share\n",
       "                        debt debt  debt      \n",
       "family_status                                \n",
       "Не женат / не замужем   2796  273  9.76  0.10\n",
       "в разводе               1189   84  7.06  0.07\n",
       "вдовец / вдова           951   63  6.62  0.07\n",
       "гражданский брак        4134  385  9.31  0.09\n",
       "женат / замужем        12261  927  7.56  0.08"
      ]
     },
     "execution_count": 23,
     "metadata": {},
     "output_type": "execute_result"
    }
   ],
   "source": [
    "# Ваш код будет здесь. Вы можете создавать новые ячейки.\n",
    "data_pivot_family_status = data.pivot_table(index=['family_status'], values='debt', aggfunc=['count', 'sum', 'mean'])\n",
    "data_pivot_family_status['mean'] = (data_pivot_family_status['mean']*100).round(decimals=2)\n",
    "data_pivot_family_status['share'] = (data_pivot_family_status['sum']/data_pivot_family_status['count']).round(decimals=2)\n",
    "data_pivot_family_status"
   ]
  },
  {
   "cell_type": "markdown",
   "id": "060b6a7b",
   "metadata": {
    "deletable": false,
    "id": "1cef7837"
   },
   "source": [
    "**Вывод:** "
   ]
  },
  {
   "cell_type": "markdown",
   "id": "1680c696",
   "metadata": {},
   "source": [
    "<div class=\"alert alert-info\"> <b>Комментарии:</b> \n",
    "\n",
    "Count также считает нам количество людей в зависимости от семейного положения. Sum количество должников.\n",
    "    \n",
    "    Соответственно доля должников выше у людей, в статусе не женат/не замужем (10%). Близка к данному значению доля должников, состоящих в гражаднском браке (9%). Меньше всех не возвращают кредит в срок люди в разводе (7%), те кто в статусе женат/замужем (8%) и вдовец/вдова (7%)\n",
    "\n",
    "    \n",
    "\n",
    "\n",
    "\n",
    "\n",
    "</div>"
   ]
  },
  {
   "cell_type": "markdown",
   "id": "fd76071b",
   "metadata": {
    "deletable": false,
    "editable": false,
    "id": "1e8b2fca"
   },
   "source": [
    "#### 3.3 Есть ли зависимость между уровнем дохода и возвратом кредита в срок?"
   ]
  },
  {
   "cell_type": "code",
   "execution_count": 24,
   "id": "aebb1f4e",
   "metadata": {
    "deletable": false,
    "id": "cd7e3720"
   },
   "outputs": [
    {
     "data": {
      "text/html": [
       "<div>\n",
       "<style scoped>\n",
       "    .dataframe tbody tr th:only-of-type {\n",
       "        vertical-align: middle;\n",
       "    }\n",
       "\n",
       "    .dataframe tbody tr th {\n",
       "        vertical-align: top;\n",
       "    }\n",
       "\n",
       "    .dataframe thead tr th {\n",
       "        text-align: left;\n",
       "    }\n",
       "\n",
       "    .dataframe thead tr:last-of-type th {\n",
       "        text-align: right;\n",
       "    }\n",
       "</style>\n",
       "<table border=\"1\" class=\"dataframe\">\n",
       "  <thead>\n",
       "    <tr>\n",
       "      <th></th>\n",
       "      <th>count</th>\n",
       "      <th>sum</th>\n",
       "      <th>mean</th>\n",
       "      <th>share</th>\n",
       "    </tr>\n",
       "    <tr>\n",
       "      <th></th>\n",
       "      <th>debt</th>\n",
       "      <th>debt</th>\n",
       "      <th>debt</th>\n",
       "      <th></th>\n",
       "    </tr>\n",
       "    <tr>\n",
       "      <th>total_income_category</th>\n",
       "      <th></th>\n",
       "      <th></th>\n",
       "      <th></th>\n",
       "      <th></th>\n",
       "    </tr>\n",
       "  </thead>\n",
       "  <tbody>\n",
       "    <tr>\n",
       "      <th>A</th>\n",
       "      <td>25</td>\n",
       "      <td>2</td>\n",
       "      <td>8.00</td>\n",
       "      <td>0.08</td>\n",
       "    </tr>\n",
       "    <tr>\n",
       "      <th>B</th>\n",
       "      <td>5014</td>\n",
       "      <td>354</td>\n",
       "      <td>7.06</td>\n",
       "      <td>0.07</td>\n",
       "    </tr>\n",
       "    <tr>\n",
       "      <th>C</th>\n",
       "      <td>15921</td>\n",
       "      <td>1353</td>\n",
       "      <td>8.50</td>\n",
       "      <td>0.08</td>\n",
       "    </tr>\n",
       "    <tr>\n",
       "      <th>D</th>\n",
       "      <td>349</td>\n",
       "      <td>21</td>\n",
       "      <td>6.02</td>\n",
       "      <td>0.06</td>\n",
       "    </tr>\n",
       "    <tr>\n",
       "      <th>E</th>\n",
       "      <td>22</td>\n",
       "      <td>2</td>\n",
       "      <td>9.09</td>\n",
       "      <td>0.09</td>\n",
       "    </tr>\n",
       "  </tbody>\n",
       "</table>\n",
       "</div>"
      ],
      "text/plain": [
       "                       count   sum  mean share\n",
       "                        debt  debt  debt      \n",
       "total_income_category                         \n",
       "A                         25     2  8.00  0.08\n",
       "B                       5014   354  7.06  0.07\n",
       "C                      15921  1353  8.50  0.08\n",
       "D                        349    21  6.02  0.06\n",
       "E                         22     2  9.09  0.09"
      ]
     },
     "execution_count": 24,
     "metadata": {},
     "output_type": "execute_result"
    }
   ],
   "source": [
    "# Ваш код будет здесь. Вы можете создавать новые ячейки.\n",
    "data_pivot_total_income = data.pivot_table(index=['total_income_category'], values='debt', aggfunc=['count', 'sum', 'mean'])\n",
    "data_pivot_total_income['mean'] = (data_pivot_total_income['mean']*100).round(decimals=2)\n",
    "data_pivot_total_income['share'] = (data_pivot_total_income['sum']/data_pivot_total_income['count']).round(decimals=2)\n",
    "data_pivot_total_income\n"
   ]
  },
  {
   "cell_type": "markdown",
   "id": "9002fd68",
   "metadata": {},
   "source": [
    "<div class=\"alert alert-info\"> <b>Комментарии:</b> \n",
    "    \n",
    "Соответственно больше всего людей зарабатывают от 50000 до 200000. Поэтому среди этой группы больше всего должников. Посмотрев на mean и share, то примерно все находятся в одинаковой зависимости. В среднем каждый 7-8 человек является должником. Меньше всего должников в группе D с более низким доходом от 30000 до 50000 тысяч. На следующей ступени люди из группы B с высоким доходом от 200000 до 1000000. В группе E из 22 человек двое являются должниками.\n",
    "Можно сделать вывод, что зависимость слабая. Возможно необходимо больше данных о должниках. \n",
    "\n",
    "\n",
    "\n",
    "</div>"
   ]
  },
  {
   "cell_type": "markdown",
   "id": "d27ccccc",
   "metadata": {
    "deletable": false,
    "editable": false,
    "id": "99ecbd1f"
   },
   "source": [
    "#### 3.4 Как разные цели кредита влияют на его возврат в срок?"
   ]
  },
  {
   "cell_type": "code",
   "execution_count": 25,
   "id": "ad550189",
   "metadata": {
    "deletable": false,
    "id": "2b687290"
   },
   "outputs": [
    {
     "data": {
      "text/html": [
       "<div>\n",
       "<style scoped>\n",
       "    .dataframe tbody tr th:only-of-type {\n",
       "        vertical-align: middle;\n",
       "    }\n",
       "\n",
       "    .dataframe tbody tr th {\n",
       "        vertical-align: top;\n",
       "    }\n",
       "\n",
       "    .dataframe thead tr th {\n",
       "        text-align: left;\n",
       "    }\n",
       "\n",
       "    .dataframe thead tr:last-of-type th {\n",
       "        text-align: right;\n",
       "    }\n",
       "</style>\n",
       "<table border=\"1\" class=\"dataframe\">\n",
       "  <thead>\n",
       "    <tr>\n",
       "      <th></th>\n",
       "      <th>count</th>\n",
       "      <th>sum</th>\n",
       "      <th>mean</th>\n",
       "      <th>share</th>\n",
       "    </tr>\n",
       "    <tr>\n",
       "      <th></th>\n",
       "      <th>debt</th>\n",
       "      <th>debt</th>\n",
       "      <th>debt</th>\n",
       "      <th></th>\n",
       "    </tr>\n",
       "    <tr>\n",
       "      <th>purpose_category</th>\n",
       "      <th></th>\n",
       "      <th></th>\n",
       "      <th></th>\n",
       "      <th></th>\n",
       "    </tr>\n",
       "  </thead>\n",
       "  <tbody>\n",
       "    <tr>\n",
       "      <th>операции с автомобилем</th>\n",
       "      <td>4279</td>\n",
       "      <td>400</td>\n",
       "      <td>9.35</td>\n",
       "      <td>0.09</td>\n",
       "    </tr>\n",
       "    <tr>\n",
       "      <th>операции с недвижимостью</th>\n",
       "      <td>10751</td>\n",
       "      <td>780</td>\n",
       "      <td>7.26</td>\n",
       "      <td>0.07</td>\n",
       "    </tr>\n",
       "    <tr>\n",
       "      <th>получение образования</th>\n",
       "      <td>3988</td>\n",
       "      <td>369</td>\n",
       "      <td>9.25</td>\n",
       "      <td>0.09</td>\n",
       "    </tr>\n",
       "    <tr>\n",
       "      <th>проведение свадьбы</th>\n",
       "      <td>2313</td>\n",
       "      <td>183</td>\n",
       "      <td>7.91</td>\n",
       "      <td>0.08</td>\n",
       "    </tr>\n",
       "  </tbody>\n",
       "</table>\n",
       "</div>"
      ],
      "text/plain": [
       "                          count  sum  mean share\n",
       "                           debt debt  debt      \n",
       "purpose_category                                \n",
       "операции с автомобилем     4279  400  9.35  0.09\n",
       "операции с недвижимостью  10751  780  7.26  0.07\n",
       "получение образования      3988  369  9.25  0.09\n",
       "проведение свадьбы         2313  183  7.91  0.08"
      ]
     },
     "execution_count": 25,
     "metadata": {},
     "output_type": "execute_result"
    }
   ],
   "source": [
    "# Ваш код будет здесь. Вы можете создавать новые ячейки.\n",
    "data_pivot_purpose_category = data.pivot_table(\n",
    "    index=['purpose_category'],\n",
    "    values='debt',\n",
    "    aggfunc=['count', 'sum', 'mean']\n",
    ")\n",
    "\n",
    "data_pivot_purpose_category['mean'] = (data_pivot_purpose_category['mean']*100).round(decimals=2)\n",
    "\n",
    "data_pivot_purpose_category['share'] = (\n",
    "    data_pivot_purpose_category['sum']/\n",
    "    data_pivot_purpose_category['count']\n",
    ").round(decimals=2)\n",
    "\n",
    "data_pivot_purpose_category\n",
    "\n"
   ]
  },
  {
   "cell_type": "markdown",
   "id": "445200d0",
   "metadata": {},
   "source": [
    "<div class=\"alert alert-info\"> <b>Комментарии:</b> \n",
    "\n",
    "    \n",
    "Соответственно больше всего людей берут кредит, целью которого это операции с недвижимостью. Если посмотреть на отношение должников ко всем людям из определенной категории, то зависимость слабая, т.к доли должников мало различаются между собой. Немного чаще оказываются в долгах те, кто берут кредит на операции с автомобилем, получение образования и проведение свадьбы. Меньше всего на операции с недвижимостью.\n",
    "\n",
    "\n",
    "\n",
    "</div>"
   ]
  },
  {
   "cell_type": "markdown",
   "id": "d0ebf110",
   "metadata": {
    "deletable": false,
    "editable": false,
    "id": "6db5255a"
   },
   "source": [
    "### Шаг 4: общий вывод."
   ]
  },
  {
   "cell_type": "markdown",
   "id": "af20bd8a",
   "metadata": {},
   "source": [
    "<div class=\"alert alert-info\"> <b>Комментарии:</b> \n",
    "\n",
    "    \n",
    "Финальный вывод:\n",
    "В ходе данного проекта было проведено исследование, с целью выявления влияния разных факторов на факт погашения кредита в срок. Входные данные - статистика о платежеспособности клиентов. \n",
    "\n",
    "В ходе проекта необходимо было ответить на следующие вопросы:\n",
    "    \n",
    "    Есть ли зависимость между количеством детей и возвратом кредита в срок?\n",
    "    Есть ли зависимость между семейным положением и возвратом кредита в срок?\n",
    "    Есть ли зависимость между уровнем дохода и возвратом кредита в срок?\n",
    "    Как разные цели кредита влияют на его возврат в срок?\n",
    "\n",
    "1. Ответ: слабая зависимость\n",
    "    Доля семей без детей и должников - 0.08. Доля семей с 3 и 4 детьми в семье - 0.08 и 0.1 соотвественно. \n",
    "       \n",
    "    \n",
    "2. Ответ: зависимость есть\n",
    "    Доля должников выше у людей, в статусе не женат/не замужем (10%). Близка к данному значению доля должников, состоящих в гражаднском браке (9%). Меньше всех не возвращают кредит в срок люди в разводе (7%), те кто в статусе женат/замужем (8%) и вдовец/вдова (7%)\n",
    "       \n",
    "    \n",
    "3. Ответ: слабая зависимость\n",
    "\n",
    "    0–30000 — 'E';\n",
    "    30001–50000 — 'D';\n",
    "    50001–200000 — 'C';\n",
    "    200001–1000000 — 'B';\n",
    "    1000001 и выше — 'A'.\n",
    "    \n",
    "    Доля должников выше в группах по уровню дохода: A - 8%, C - 8%, E - 9%. Чуть ниже в группах (B - 7%, D - 6%). Нельзя сказать, что из этого можно сделать какую-то зависимость. \n",
    "    \n",
    "    \n",
    "    \n",
    "4. Ответ: слабая зависимость\n",
    "    Доли должников по категория не сильно различаются между собой.\n",
    "    \n",
    "    \n",
    "\n",
    "\n",
    "\n",
    "\n",
    "</div>"
   ]
  }
 ],
 "metadata": {
  "ExecuteTimeLog": [
   {
    "duration": 75,
    "start_time": "2022-10-07T20:16:47.868Z"
   },
   {
    "duration": 566,
    "start_time": "2022-10-07T20:16:56.563Z"
   },
   {
    "duration": 27,
    "start_time": "2022-10-07T20:16:57.131Z"
   },
   {
    "duration": 38,
    "start_time": "2022-10-07T20:16:57.160Z"
   },
   {
    "duration": 16,
    "start_time": "2022-10-07T20:16:57.200Z"
   },
   {
    "duration": 37,
    "start_time": "2022-10-07T20:16:57.218Z"
   },
   {
    "duration": 4,
    "start_time": "2022-10-07T20:16:57.257Z"
   },
   {
    "duration": 36,
    "start_time": "2022-10-07T20:16:57.263Z"
   },
   {
    "duration": 18,
    "start_time": "2022-10-07T20:16:57.301Z"
   },
   {
    "duration": 13,
    "start_time": "2022-10-07T20:16:57.321Z"
   },
   {
    "duration": 19,
    "start_time": "2022-10-07T20:16:57.338Z"
   },
   {
    "duration": 58,
    "start_time": "2022-10-07T20:16:57.358Z"
   },
   {
    "duration": 19,
    "start_time": "2022-10-07T20:16:57.417Z"
   },
   {
    "duration": 7,
    "start_time": "2022-10-07T20:16:57.438Z"
   },
   {
    "duration": 28,
    "start_time": "2022-10-07T20:16:57.446Z"
   },
   {
    "duration": 35,
    "start_time": "2022-10-07T20:16:57.477Z"
   },
   {
    "duration": 24,
    "start_time": "2022-10-07T20:16:57.514Z"
   },
   {
    "duration": 4,
    "start_time": "2022-10-07T20:16:57.540Z"
   },
   {
    "duration": 19,
    "start_time": "2022-10-07T20:16:57.546Z"
   },
   {
    "duration": 11,
    "start_time": "2022-10-07T20:16:57.567Z"
   },
   {
    "duration": 7,
    "start_time": "2022-10-07T20:16:57.589Z"
   },
   {
    "duration": 23,
    "start_time": "2022-10-07T20:16:57.601Z"
   },
   {
    "duration": 32,
    "start_time": "2022-10-07T20:16:57.626Z"
   },
   {
    "duration": 12,
    "start_time": "2022-10-07T20:16:57.660Z"
   },
   {
    "duration": 9,
    "start_time": "2022-10-07T20:16:57.674Z"
   },
   {
    "duration": 17,
    "start_time": "2022-10-07T20:16:57.685Z"
   },
   {
    "duration": 15,
    "start_time": "2022-10-07T20:17:45.368Z"
   },
   {
    "duration": 30,
    "start_time": "2022-10-07T20:19:55.786Z"
   },
   {
    "duration": 48,
    "start_time": "2022-10-08T08:23:58.653Z"
   },
   {
    "duration": 696,
    "start_time": "2022-10-08T08:24:05.204Z"
   },
   {
    "duration": 22,
    "start_time": "2022-10-08T08:24:05.902Z"
   },
   {
    "duration": 15,
    "start_time": "2022-10-08T08:24:05.926Z"
   },
   {
    "duration": 8,
    "start_time": "2022-10-08T08:24:05.943Z"
   },
   {
    "duration": 44,
    "start_time": "2022-10-08T08:24:05.953Z"
   },
   {
    "duration": 4,
    "start_time": "2022-10-08T08:24:05.998Z"
   },
   {
    "duration": 16,
    "start_time": "2022-10-08T08:24:06.003Z"
   },
   {
    "duration": 8,
    "start_time": "2022-10-08T08:24:06.021Z"
   },
   {
    "duration": 13,
    "start_time": "2022-10-08T08:24:06.031Z"
   },
   {
    "duration": 5,
    "start_time": "2022-10-08T08:24:06.047Z"
   },
   {
    "duration": 49,
    "start_time": "2022-10-08T08:24:06.053Z"
   },
   {
    "duration": 10,
    "start_time": "2022-10-08T08:24:06.103Z"
   },
   {
    "duration": 9,
    "start_time": "2022-10-08T08:24:06.115Z"
   },
   {
    "duration": 14,
    "start_time": "2022-10-08T08:24:06.126Z"
   },
   {
    "duration": 22,
    "start_time": "2022-10-08T08:24:06.141Z"
   },
   {
    "duration": 25,
    "start_time": "2022-10-08T08:24:06.165Z"
   },
   {
    "duration": 5,
    "start_time": "2022-10-08T08:24:06.192Z"
   },
   {
    "duration": 15,
    "start_time": "2022-10-08T08:24:06.198Z"
   },
   {
    "duration": 26,
    "start_time": "2022-10-08T08:24:06.215Z"
   },
   {
    "duration": 4,
    "start_time": "2022-10-08T08:24:06.242Z"
   },
   {
    "duration": 17,
    "start_time": "2022-10-08T08:24:06.248Z"
   },
   {
    "duration": 85,
    "start_time": "2022-10-08T08:24:06.266Z"
   },
   {
    "duration": 0,
    "start_time": "2022-10-08T08:24:06.352Z"
   },
   {
    "duration": 0,
    "start_time": "2022-10-08T08:24:06.354Z"
   },
   {
    "duration": 0,
    "start_time": "2022-10-08T08:24:06.355Z"
   },
   {
    "duration": 20,
    "start_time": "2022-10-08T08:24:23.666Z"
   },
   {
    "duration": 54,
    "start_time": "2022-10-08T08:25:04.932Z"
   },
   {
    "duration": 16,
    "start_time": "2022-10-08T08:25:07.868Z"
   },
   {
    "duration": 15,
    "start_time": "2022-10-08T08:25:12.293Z"
   },
   {
    "duration": 18,
    "start_time": "2022-10-08T08:25:19.984Z"
   },
   {
    "duration": 22,
    "start_time": "2022-10-08T08:25:24.538Z"
   },
   {
    "duration": 18,
    "start_time": "2022-10-08T08:25:56.598Z"
   },
   {
    "duration": 8,
    "start_time": "2022-10-08T08:29:34.575Z"
   },
   {
    "duration": 4,
    "start_time": "2022-10-08T08:29:55.158Z"
   },
   {
    "duration": 5,
    "start_time": "2022-10-08T08:31:54.422Z"
   },
   {
    "duration": 7,
    "start_time": "2022-10-08T08:31:59.678Z"
   },
   {
    "duration": 6,
    "start_time": "2022-10-08T08:32:26.881Z"
   },
   {
    "duration": 6,
    "start_time": "2022-10-08T08:32:59.546Z"
   },
   {
    "duration": 8,
    "start_time": "2022-10-08T08:33:14.266Z"
   },
   {
    "duration": 5,
    "start_time": "2022-10-08T08:33:22.283Z"
   },
   {
    "duration": 6,
    "start_time": "2022-10-08T08:33:26.367Z"
   },
   {
    "duration": 6,
    "start_time": "2022-10-08T08:33:31.101Z"
   },
   {
    "duration": 8,
    "start_time": "2022-10-08T08:36:41.918Z"
   },
   {
    "duration": 7,
    "start_time": "2022-10-08T08:36:48.360Z"
   },
   {
    "duration": 431,
    "start_time": "2022-10-08T08:36:53.923Z"
   },
   {
    "duration": 23,
    "start_time": "2022-10-08T08:36:54.356Z"
   },
   {
    "duration": 14,
    "start_time": "2022-10-08T08:36:54.381Z"
   },
   {
    "duration": 9,
    "start_time": "2022-10-08T08:36:54.397Z"
   },
   {
    "duration": 43,
    "start_time": "2022-10-08T08:36:54.408Z"
   },
   {
    "duration": 3,
    "start_time": "2022-10-08T08:36:54.453Z"
   },
   {
    "duration": 19,
    "start_time": "2022-10-08T08:36:54.458Z"
   },
   {
    "duration": 4,
    "start_time": "2022-10-08T08:36:54.479Z"
   },
   {
    "duration": 7,
    "start_time": "2022-10-08T08:36:54.484Z"
   },
   {
    "duration": 5,
    "start_time": "2022-10-08T08:36:54.493Z"
   },
   {
    "duration": 33,
    "start_time": "2022-10-08T08:36:54.499Z"
   },
   {
    "duration": 10,
    "start_time": "2022-10-08T08:36:54.533Z"
   },
   {
    "duration": 33,
    "start_time": "2022-10-08T08:36:54.544Z"
   },
   {
    "duration": 12,
    "start_time": "2022-10-08T08:36:54.580Z"
   },
   {
    "duration": 21,
    "start_time": "2022-10-08T08:36:54.594Z"
   },
   {
    "duration": 15,
    "start_time": "2022-10-08T08:36:54.616Z"
   },
   {
    "duration": 3,
    "start_time": "2022-10-08T08:36:54.633Z"
   },
   {
    "duration": 11,
    "start_time": "2022-10-08T08:36:54.637Z"
   },
   {
    "duration": 31,
    "start_time": "2022-10-08T08:36:54.650Z"
   },
   {
    "duration": 3,
    "start_time": "2022-10-08T08:36:54.682Z"
   },
   {
    "duration": 10,
    "start_time": "2022-10-08T08:36:54.687Z"
   },
   {
    "duration": 7,
    "start_time": "2022-10-08T08:36:54.699Z"
   },
   {
    "duration": 3,
    "start_time": "2022-10-08T08:36:54.708Z"
   },
   {
    "duration": 5,
    "start_time": "2022-10-08T08:36:54.712Z"
   },
   {
    "duration": 5,
    "start_time": "2022-10-08T08:36:54.718Z"
   },
   {
    "duration": 8,
    "start_time": "2022-10-08T08:37:04.816Z"
   },
   {
    "duration": 38,
    "start_time": "2022-10-08T08:39:13.587Z"
   },
   {
    "duration": 35,
    "start_time": "2022-10-08T08:39:37.073Z"
   },
   {
    "duration": 31,
    "start_time": "2022-10-08T08:43:42.089Z"
   },
   {
    "duration": 30,
    "start_time": "2022-10-08T08:43:50.186Z"
   },
   {
    "duration": 32,
    "start_time": "2022-10-08T08:44:01.004Z"
   },
   {
    "duration": 57,
    "start_time": "2022-10-08T08:45:05.172Z"
   },
   {
    "duration": 38,
    "start_time": "2022-10-08T08:46:02.244Z"
   },
   {
    "duration": 32,
    "start_time": "2022-10-08T08:46:27.378Z"
   },
   {
    "duration": 22,
    "start_time": "2022-10-08T10:20:01.646Z"
   },
   {
    "duration": 50,
    "start_time": "2022-10-08T10:20:40.351Z"
   },
   {
    "duration": 50,
    "start_time": "2022-10-08T10:20:48.479Z"
   },
   {
    "duration": 54,
    "start_time": "2022-10-08T10:21:23.046Z"
   },
   {
    "duration": 47,
    "start_time": "2022-10-08T10:21:31.937Z"
   },
   {
    "duration": 49,
    "start_time": "2022-10-08T10:21:42.657Z"
   },
   {
    "duration": 52,
    "start_time": "2022-10-08T10:22:32.201Z"
   },
   {
    "duration": 37,
    "start_time": "2022-10-08T10:22:51.223Z"
   },
   {
    "duration": 34,
    "start_time": "2022-10-08T10:23:51.790Z"
   },
   {
    "duration": 39,
    "start_time": "2022-10-08T10:24:02.396Z"
   },
   {
    "duration": 68,
    "start_time": "2022-10-08T10:25:04.493Z"
   },
   {
    "duration": 40,
    "start_time": "2022-10-08T10:25:09.101Z"
   },
   {
    "duration": 38,
    "start_time": "2022-10-08T10:25:13.563Z"
   },
   {
    "duration": 518,
    "start_time": "2022-10-08T10:43:16.569Z"
   },
   {
    "duration": 24,
    "start_time": "2022-10-08T10:43:17.089Z"
   },
   {
    "duration": 17,
    "start_time": "2022-10-08T10:43:17.115Z"
   },
   {
    "duration": 28,
    "start_time": "2022-10-08T10:43:17.134Z"
   },
   {
    "duration": 42,
    "start_time": "2022-10-08T10:43:17.164Z"
   },
   {
    "duration": 4,
    "start_time": "2022-10-08T10:43:17.208Z"
   },
   {
    "duration": 14,
    "start_time": "2022-10-08T10:43:17.214Z"
   },
   {
    "duration": 24,
    "start_time": "2022-10-08T10:43:17.230Z"
   },
   {
    "duration": 11,
    "start_time": "2022-10-08T10:43:17.256Z"
   },
   {
    "duration": 12,
    "start_time": "2022-10-08T10:43:17.270Z"
   },
   {
    "duration": 49,
    "start_time": "2022-10-08T10:43:17.284Z"
   },
   {
    "duration": 23,
    "start_time": "2022-10-08T10:43:17.335Z"
   },
   {
    "duration": 4,
    "start_time": "2022-10-08T10:43:17.360Z"
   },
   {
    "duration": 34,
    "start_time": "2022-10-08T10:43:17.366Z"
   },
   {
    "duration": 34,
    "start_time": "2022-10-08T10:43:17.402Z"
   },
   {
    "duration": 20,
    "start_time": "2022-10-08T10:43:17.438Z"
   },
   {
    "duration": 4,
    "start_time": "2022-10-08T10:43:17.460Z"
   },
   {
    "duration": 20,
    "start_time": "2022-10-08T10:43:17.465Z"
   },
   {
    "duration": 10,
    "start_time": "2022-10-08T10:43:17.486Z"
   },
   {
    "duration": 8,
    "start_time": "2022-10-08T10:43:17.497Z"
   },
   {
    "duration": 13,
    "start_time": "2022-10-08T10:43:17.507Z"
   },
   {
    "duration": 64,
    "start_time": "2022-10-08T10:43:17.522Z"
   },
   {
    "duration": 43,
    "start_time": "2022-10-08T10:43:17.588Z"
   },
   {
    "duration": 59,
    "start_time": "2022-10-08T10:43:17.633Z"
   },
   {
    "duration": 62,
    "start_time": "2022-10-08T10:43:17.694Z"
   },
   {
    "duration": 73,
    "start_time": "2022-10-15T16:54:23.923Z"
   },
   {
    "duration": 86,
    "start_time": "2022-10-15T16:54:30.950Z"
   },
   {
    "duration": 82,
    "start_time": "2022-10-15T16:54:53.270Z"
   },
   {
    "duration": 73,
    "start_time": "2022-10-15T16:54:59.328Z"
   },
   {
    "duration": 96,
    "start_time": "2022-10-15T16:55:18.332Z"
   },
   {
    "duration": 83,
    "start_time": "2022-10-15T17:04:17.307Z"
   },
   {
    "duration": 1133,
    "start_time": "2022-10-15T17:04:24.068Z"
   },
   {
    "duration": 21,
    "start_time": "2022-10-15T17:04:25.203Z"
   },
   {
    "duration": 14,
    "start_time": "2022-10-15T17:04:25.226Z"
   },
   {
    "duration": 19,
    "start_time": "2022-10-15T17:04:25.242Z"
   },
   {
    "duration": 48,
    "start_time": "2022-10-15T17:04:25.262Z"
   },
   {
    "duration": 4,
    "start_time": "2022-10-15T17:04:25.312Z"
   },
   {
    "duration": 11,
    "start_time": "2022-10-15T17:04:25.317Z"
   },
   {
    "duration": 7,
    "start_time": "2022-10-15T17:04:25.330Z"
   },
   {
    "duration": 10,
    "start_time": "2022-10-15T17:04:25.338Z"
   },
   {
    "duration": 5,
    "start_time": "2022-10-15T17:04:25.351Z"
   },
   {
    "duration": 63,
    "start_time": "2022-10-15T17:04:25.357Z"
   },
   {
    "duration": 8,
    "start_time": "2022-10-15T17:04:25.422Z"
   },
   {
    "duration": 8,
    "start_time": "2022-10-15T17:04:25.432Z"
   },
   {
    "duration": 13,
    "start_time": "2022-10-15T17:04:25.441Z"
   },
   {
    "duration": 21,
    "start_time": "2022-10-15T17:04:25.455Z"
   },
   {
    "duration": 35,
    "start_time": "2022-10-15T17:04:25.478Z"
   },
   {
    "duration": 4,
    "start_time": "2022-10-15T17:04:25.515Z"
   },
   {
    "duration": 12,
    "start_time": "2022-10-15T17:04:25.521Z"
   },
   {
    "duration": 8,
    "start_time": "2022-10-15T17:04:25.535Z"
   },
   {
    "duration": 4,
    "start_time": "2022-10-15T17:04:25.545Z"
   },
   {
    "duration": 12,
    "start_time": "2022-10-15T17:04:25.550Z"
   },
   {
    "duration": 58,
    "start_time": "2022-10-15T17:04:25.564Z"
   },
   {
    "duration": 51,
    "start_time": "2022-10-15T17:04:25.623Z"
   },
   {
    "duration": 110,
    "start_time": "2022-10-15T17:04:25.676Z"
   },
   {
    "duration": 0,
    "start_time": "2022-10-15T17:04:25.787Z"
   },
   {
    "duration": 0,
    "start_time": "2022-10-15T17:04:25.788Z"
   },
   {
    "duration": 76,
    "start_time": "2022-10-15T17:04:33.192Z"
   },
   {
    "duration": 98,
    "start_time": "2022-10-15T17:04:38.210Z"
   },
   {
    "duration": 37,
    "start_time": "2022-10-15T17:04:41.438Z"
   },
   {
    "duration": 88,
    "start_time": "2022-10-15T17:04:42.356Z"
   },
   {
    "duration": 69,
    "start_time": "2022-10-15T17:05:54.308Z"
   },
   {
    "duration": 47,
    "start_time": "2022-10-15T17:05:57.441Z"
   },
   {
    "duration": 83,
    "start_time": "2022-10-15T17:05:58.357Z"
   },
   {
    "duration": 65,
    "start_time": "2022-11-01T09:22:36.359Z"
   },
   {
    "duration": 1097,
    "start_time": "2022-11-01T09:22:52.039Z"
   },
   {
    "duration": 22,
    "start_time": "2022-11-01T09:22:53.137Z"
   },
   {
    "duration": 16,
    "start_time": "2022-11-01T09:22:53.161Z"
   },
   {
    "duration": 10,
    "start_time": "2022-11-01T09:22:53.179Z"
   },
   {
    "duration": 58,
    "start_time": "2022-11-01T09:22:53.191Z"
   },
   {
    "duration": 4,
    "start_time": "2022-11-01T09:22:53.250Z"
   },
   {
    "duration": 10,
    "start_time": "2022-11-01T09:22:53.256Z"
   },
   {
    "duration": 5,
    "start_time": "2022-11-01T09:22:53.267Z"
   },
   {
    "duration": 9,
    "start_time": "2022-11-01T09:22:53.273Z"
   },
   {
    "duration": 7,
    "start_time": "2022-11-01T09:22:53.285Z"
   },
   {
    "duration": 66,
    "start_time": "2022-11-01T09:22:53.293Z"
   },
   {
    "duration": 11,
    "start_time": "2022-11-01T09:22:53.360Z"
   },
   {
    "duration": 4,
    "start_time": "2022-11-01T09:22:53.373Z"
   },
   {
    "duration": 15,
    "start_time": "2022-11-01T09:22:53.378Z"
   },
   {
    "duration": 20,
    "start_time": "2022-11-01T09:22:53.395Z"
   },
   {
    "duration": 19,
    "start_time": "2022-11-01T09:22:53.439Z"
   },
   {
    "duration": 3,
    "start_time": "2022-11-01T09:22:53.460Z"
   },
   {
    "duration": 12,
    "start_time": "2022-11-01T09:22:53.464Z"
   },
   {
    "duration": 10,
    "start_time": "2022-11-01T09:22:53.478Z"
   },
   {
    "duration": 3,
    "start_time": "2022-11-01T09:22:53.491Z"
   },
   {
    "duration": 46,
    "start_time": "2022-11-01T09:22:53.496Z"
   },
   {
    "duration": 48,
    "start_time": "2022-11-01T09:22:53.544Z"
   },
   {
    "duration": 47,
    "start_time": "2022-11-01T09:22:53.594Z"
   },
   {
    "duration": 49,
    "start_time": "2022-11-01T09:22:53.643Z"
   },
   {
    "duration": 0,
    "start_time": "2022-11-01T09:22:53.693Z"
   },
   {
    "duration": 0,
    "start_time": "2022-11-01T09:22:53.695Z"
   },
   {
    "duration": 99,
    "start_time": "2022-11-01T09:23:56.132Z"
   },
   {
    "duration": 65,
    "start_time": "2022-11-01T09:25:13.956Z"
   },
   {
    "duration": 54,
    "start_time": "2022-11-01T09:25:18.527Z"
   },
   {
    "duration": 46,
    "start_time": "2022-11-01T09:25:25.836Z"
   },
   {
    "duration": 39,
    "start_time": "2022-11-01T09:32:20.794Z"
   },
   {
    "duration": 43,
    "start_time": "2022-11-01T09:40:41.804Z"
   },
   {
    "duration": 46,
    "start_time": "2022-11-01T09:41:22.782Z"
   },
   {
    "duration": 41,
    "start_time": "2022-11-01T09:41:30.991Z"
   },
   {
    "duration": 39,
    "start_time": "2022-11-01T09:41:39.068Z"
   },
   {
    "duration": 64,
    "start_time": "2022-11-01T09:42:05.563Z"
   },
   {
    "duration": 59,
    "start_time": "2022-11-01T09:42:14.937Z"
   },
   {
    "duration": 56,
    "start_time": "2022-11-01T09:48:36.090Z"
   },
   {
    "duration": 22,
    "start_time": "2022-11-01T12:50:40.180Z"
   },
   {
    "duration": 69,
    "start_time": "2022-11-01T12:51:46.401Z"
   },
   {
    "duration": 12,
    "start_time": "2022-11-01T12:51:50.895Z"
   },
   {
    "duration": 12,
    "start_time": "2022-11-01T12:51:59.187Z"
   },
   {
    "duration": 14,
    "start_time": "2022-11-01T12:52:58.455Z"
   },
   {
    "duration": 57,
    "start_time": "2022-11-03T13:40:50.063Z"
   },
   {
    "duration": 68,
    "start_time": "2022-11-03T13:42:07.372Z"
   },
   {
    "duration": 6,
    "start_time": "2022-11-03T13:42:23.985Z"
   },
   {
    "duration": 6,
    "start_time": "2022-11-03T13:43:25.215Z"
   },
   {
    "duration": 8,
    "start_time": "2022-11-03T13:43:43.948Z"
   },
   {
    "duration": 7,
    "start_time": "2022-11-03T13:43:58.352Z"
   },
   {
    "duration": 12,
    "start_time": "2022-11-03T13:44:04.792Z"
   },
   {
    "duration": 10,
    "start_time": "2022-11-03T13:44:08.135Z"
   },
   {
    "duration": 9,
    "start_time": "2022-11-03T13:45:22.192Z"
   },
   {
    "duration": 9,
    "start_time": "2022-11-03T13:45:26.316Z"
   },
   {
    "duration": 6,
    "start_time": "2022-11-03T13:45:49.460Z"
   },
   {
    "duration": 3,
    "start_time": "2022-11-03T13:45:54.241Z"
   },
   {
    "duration": 4,
    "start_time": "2022-11-03T13:45:57.943Z"
   },
   {
    "duration": 4,
    "start_time": "2022-11-03T13:46:07.607Z"
   },
   {
    "duration": 4,
    "start_time": "2022-11-03T13:46:46.557Z"
   },
   {
    "duration": 4,
    "start_time": "2022-11-03T13:49:30.011Z"
   },
   {
    "duration": 72,
    "start_time": "2022-11-03T13:49:34.477Z"
   },
   {
    "duration": 8,
    "start_time": "2022-11-03T13:59:38.293Z"
   },
   {
    "duration": 4,
    "start_time": "2022-11-03T14:00:05.664Z"
   },
   {
    "duration": 681,
    "start_time": "2022-11-03T14:00:11.174Z"
   },
   {
    "duration": 23,
    "start_time": "2022-11-03T14:00:11.858Z"
   },
   {
    "duration": 15,
    "start_time": "2022-11-03T14:00:11.883Z"
   },
   {
    "duration": 11,
    "start_time": "2022-11-03T14:00:11.900Z"
   },
   {
    "duration": 47,
    "start_time": "2022-11-03T14:00:11.913Z"
   },
   {
    "duration": 4,
    "start_time": "2022-11-03T14:00:11.963Z"
   },
   {
    "duration": 12,
    "start_time": "2022-11-03T14:00:11.968Z"
   },
   {
    "duration": 4,
    "start_time": "2022-11-03T14:00:11.982Z"
   },
   {
    "duration": 13,
    "start_time": "2022-11-03T14:00:11.987Z"
   },
   {
    "duration": 7,
    "start_time": "2022-11-03T14:00:12.004Z"
   },
   {
    "duration": 59,
    "start_time": "2022-11-03T14:00:12.012Z"
   },
   {
    "duration": 10,
    "start_time": "2022-11-03T14:00:12.073Z"
   },
   {
    "duration": 4,
    "start_time": "2022-11-03T14:00:12.085Z"
   },
   {
    "duration": 12,
    "start_time": "2022-11-03T14:00:12.091Z"
   },
   {
    "duration": 46,
    "start_time": "2022-11-03T14:00:12.105Z"
   },
   {
    "duration": 18,
    "start_time": "2022-11-03T14:00:12.153Z"
   },
   {
    "duration": 5,
    "start_time": "2022-11-03T14:00:12.172Z"
   },
   {
    "duration": 16,
    "start_time": "2022-11-03T14:00:12.178Z"
   },
   {
    "duration": 9,
    "start_time": "2022-11-03T14:00:12.195Z"
   },
   {
    "duration": 4,
    "start_time": "2022-11-03T14:00:12.206Z"
   },
   {
    "duration": 8,
    "start_time": "2022-11-03T14:00:12.239Z"
   },
   {
    "duration": 48,
    "start_time": "2022-11-03T14:00:12.249Z"
   },
   {
    "duration": 44,
    "start_time": "2022-11-03T14:00:12.299Z"
   },
   {
    "duration": 37,
    "start_time": "2022-11-03T14:00:12.344Z"
   },
   {
    "duration": 65,
    "start_time": "2022-11-03T14:00:12.383Z"
   },
   {
    "duration": 71,
    "start_time": "2022-11-03T14:00:12.450Z"
   },
   {
    "duration": 48,
    "start_time": "2022-11-03T14:00:39.861Z"
   },
   {
    "duration": 4,
    "start_time": "2022-11-03T14:00:43.629Z"
   }
  ],
  "colab": {
   "name": "dpp_template_part2.ipynb",
   "provenance": []
  },
  "kernelspec": {
   "display_name": "Python 3 (ipykernel)",
   "language": "python",
   "name": "python3"
  },
  "language_info": {
   "codemirror_mode": {
    "name": "ipython",
    "version": 3
   },
   "file_extension": ".py",
   "mimetype": "text/x-python",
   "name": "python",
   "nbconvert_exporter": "python",
   "pygments_lexer": "ipython3",
   "version": "3.12.1"
  },
  "toc": {
   "base_numbering": 1,
   "nav_menu": {},
   "number_sections": true,
   "sideBar": true,
   "skip_h1_title": true,
   "title_cell": "Table of Contents",
   "title_sidebar": "Contents",
   "toc_cell": false,
   "toc_position": {
    "height": "calc(100% - 180px)",
    "left": "10px",
    "top": "150px",
    "width": "183px"
   },
   "toc_section_display": true,
   "toc_window_display": true
  }
 },
 "nbformat": 4,
 "nbformat_minor": 5
}
